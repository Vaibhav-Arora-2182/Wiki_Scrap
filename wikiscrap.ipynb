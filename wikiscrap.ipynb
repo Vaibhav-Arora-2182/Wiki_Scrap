{
  "nbformat": 4,
  "nbformat_minor": 0,
  "metadata": {
    "colab": {
      "name": "wikiscrap.ipynb",
      "provenance": [],
      "toc_visible": true
    },
    "kernelspec": {
      "name": "python3",
      "display_name": "Python 3"
    },
    "language_info": {
      "name": "python"
    }
  },
  "cells": [
    {
      "cell_type": "code",
      "execution_count": null,
      "metadata": {
        "id": "WsYY36OG4gmZ"
      },
      "outputs": [],
      "source": [
        "import requests\n",
        "from bs4 import BeautifulSoup as bs"
      ]
    },
    {
      "cell_type": "code",
      "source": [
        "from google.colab import drive\n",
        "drive.mount('/content/drive')"
      ],
      "metadata": {
        "colab": {
          "base_uri": "https://localhost:8080/"
        },
        "id": "QA1m0p87_sPC",
        "outputId": "49486208-3502-4fb0-f0ee-c66fd9c51467"
      },
      "execution_count": null,
      "outputs": [
        {
          "output_type": "stream",
          "name": "stdout",
          "text": [
            "Drive already mounted at /content/drive; to attempt to forcibly remount, call drive.mount(\"/content/drive\", force_remount=True).\n"
          ]
        }
      ]
    },
    {
      "cell_type": "code",
      "source": [
        "page=requests.get(\"https://en.wikipedia.org/wiki/Probability\")\n",
        "# print(page.text)\n",
        "x=\"\"\n",
        "soup=bs(page.text,\"html.parser\")\n",
        "for i in soup.find_all(\"h1\"):\n",
        "    x+=i.text+\"\\n\"\n",
        "    \n",
        "print(x)\n",
        "with open('/content/drive/My Drive/file.txt', 'w') as f:\n",
        "     f.write(x)\n"
      ],
      "metadata": {
        "id": "T5bNnbak4s53",
        "colab": {
          "base_uri": "https://localhost:8080/"
        },
        "outputId": "a648fdde-e243-46ca-e24e-294e76d81b0c"
      },
      "execution_count": null,
      "outputs": [
        {
          "output_type": "stream",
          "name": "stdout",
          "text": [
            "Probability\n",
            "\n"
          ]
        }
      ]
    },
    {
      "cell_type": "code",
      "source": [
        "page=requests.get(\"https://en.wikipedia.org/wiki/Probability\")\n",
        "# print(page.text)\n",
        "x=\"\"\n",
        "soup=bs(page.text,\"html.parser\")\n",
        "for i in soup.find_all(\"h2\"):\n",
        "    x+=i.text+\"\\n\"\n",
        "    \n",
        "print(x)\n",
        "with open('/content/drive/My Drive/file1.txt', 'w') as f:\n",
        "     f.write(x)\n"
      ],
      "metadata": {
        "id": "xQ9Jb3tVqHP3",
        "outputId": "ebc13bea-54e2-4dc8-fa48-af3b1f56f046",
        "colab": {
          "base_uri": "https://localhost:8080/"
        }
      },
      "execution_count": null,
      "outputs": [
        {
          "output_type": "stream",
          "name": "stdout",
          "text": [
            "Contents\n",
            "Interpretations[edit]\n",
            "Etymology[edit]\n",
            "History[edit]\n",
            "Theory[edit]\n",
            "Applications[edit]\n",
            "Mathematical treatment[edit]\n",
            "Relation to randomness and probability in quantum mechanics[edit]\n",
            "See also[edit]\n",
            "Notes[edit]\n",
            "References[edit]\n",
            "Bibliography[edit]\n",
            "External links[edit]\n",
            "Navigation menu\n",
            "\n"
          ]
        }
      ]
    },
    {
      "cell_type": "code",
      "source": [
        ""
      ],
      "metadata": {
        "id": "Q8v75DnGLBul"
      },
      "execution_count": null,
      "outputs": []
    }
  ]
}